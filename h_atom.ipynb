{
 "cells": [
  {
   "cell_type": "code",
   "execution_count": 3,
   "metadata": {
    "collapsed": false
   },
   "outputs": [],
   "source": [
    "# %load diag_H_atom.py\n",
    "from scipy import *\n",
    "from scipy.sparse import diags\n",
    "from scipy.sparse.linalg import eigs\n",
    "from ctypes import CDLL, c_double as CD, c_int as CI\n",
    "from scipy.linalg import eigh_tridiagonal as eighT\n",
    "from scipy.linalg import eig\n",
    "import matplotlib \n",
    "from matplotlib import pyplot as plt \n",
    "cm2H =0.0000045563352812122295\n",
    "\n",
    "\n",
    "def h_atom_stark(x0=1e-10, xend=30,N=1000, Lm=10,E=.000001, m=0, k=1, sigma=-1):\n",
    "\n",
    "\t### task parameter\n",
    "\tdx=(xend - x0)/N\n",
    "\t# print(\"N = \", N, \"dx = \",dx)\n",
    "\tdx2=dx**2\n",
    "\n",
    "#\tR = linspace(x0,xend,N)\n",
    "\n",
    "\tA = []\n",
    "\t\n",
    "\t# print(type(es), type(dx))\n",
    "\tfor L in range(m, Lm):\n",
    "\t\tA += [ 1/dx**2\n",
    "\t\t - 1/(dx*ix + x0) +   L*(L+1)/ (2* (dx*ix+x0)**2) for ix in range(N) ]\n",
    "\t\t#A[-1] -= .5/dx**2 * exp(-1j*es*dx)\n",
    "\t\t#A[-N] -= .5/dx**2 * exp(-1e10*dx)\n",
    "\n",
    "\tA_off= -.5/dx**2 * ones( (Lm-m)*N ) \n",
    "\n",
    "\tA_off[N-1::N] = 0 \n",
    "\tA_off = A_off[:-1]\n",
    "\n",
    "\tC = lambda l,m : sqrt( (l**2 - m**2 )/ (4*l**2 -1) )\n",
    "\n",
    "\t#####\n",
    "\t##\n",
    "\t## Note: if \n",
    "\t##\n",
    "\t##\n",
    "\t# C_off = [-C(ll,m)* E*(x0+dx*ii) for ll in range(1,Lm) for ii in range(N)]   \n",
    "\tC_off = [-C(ll,m)* E*(x0+dx*ii) for ll in range(m+1,Lm) for ii in range(N)]   \n",
    "\n",
    "\t# H = diag(A) + diag(A_off,-1) + diag(A_off,1) + diag(C_off,N) + diag(C_off,-N)\n",
    "\tH = diags([A, A_off, A_off, C_off,C_off],[0,-1,1,N,-N], format=\"csc\")\n",
    "\treturn eigs(H , sigma = sigma, k=k)\n",
    "\t# return eigh(H.todense())\n",
    "\n",
    "def test_qwall(e=-1-.1j):\n",
    "\tN = 100\n",
    "\tU = zeros(N)\n",
    "\tB= 40\n",
    "\tE = 60\n",
    "\tU[B:E] = 2e0\n",
    "\tdx = .1\n",
    "\tA = [ 1/dx**2 + U[ix] + 0j for ix in range(N) ]\n",
    "\tA_off= -.5/dx**2 * ones(N-1, dtype=complex128)\n",
    "\n",
    "\tke = kb = sqrt(2*e)\n",
    "\n",
    "\tA[0] -= .5/dx**2 * exp(-kb*dx)\n",
    "\tA[N-1] -= .5/dx**2 * exp(-ke*dx)\n",
    "\treturn eig( diags([A,A_off,A_off],[0,1,-1]).todense()) #, sigma= 500 , k=20)\n",
    "\n",
    "#############################################################################\n",
    "##\n",
    "##  post processing\n",
    "##\n",
    "\n",
    "def post(energy,vecs, Lm=10, N=1000, k=35):\n",
    "\tv= [[ vecs[i*N:(i+1)*N,j] for i in range(Lm)] for j in range(k)]\n",
    "\tsum_v = [ [sum(v[j][i]) for i in range(Lm)] for j in range(k)]\n",
    "\tprint(\"E\\L     \", \"        \".join(['s','p','d','f','k','l']))\n",
    "\tfor i in  range(k):\n",
    "\t\tprint(\"% 6.4f\"% energy[i].real, end=\" \")\n",
    "\t\tfmt = \"{:-= 6.4f}  \"* len(sum_v[i])\n",
    "\t\tprint( fmt.format(*real(sum_v[i])) )\n",
    "\treturn sum_v,v\n",
    "\n",
    "##############################################################################\n",
    "##\n",
    "##  plot wave function\n",
    "##\n",
    "def plot1(v):\n",
    "\te=0\n",
    "\tv,e = v\n",
    "\tplt.title(\"E = %f %f\"%(e.real, e.imag))\n",
    "\tplt.plot( v[0] , 'r.')\n",
    "\tplt.plot( v[1] , 'y+')\n",
    "\tplt.plot( v[2] ),'g*'\n",
    "\tplt.plot( v[3] ),'bo'\n",
    "\tplt.plot( v[4] ),'v*'\n",
    "\n",
    "\tplt.show()\n",
    "\n",
    "def plot2(v):\n",
    " \tplt.plot(v[0].tolist() +  v[1].tolist() )\n",
    " \tplt.show()\n",
    "\n",
    "##\n",
    "## end plot\n",
    "##\n",
    "#################################################################################\n",
    "\n"
   ]
  },
  {
   "cell_type": "code",
   "execution_count": 4,
   "metadata": {
    "collapsed": true
   },
   "outputs": [],
   "source": [
    "%matplotlib inline\n",
    "from matplotlib import pyplot"
   ]
  },
  {
   "cell_type": "markdown",
   "metadata": {},
   "source": [
    "E$=0.00001 a.u \\approx 10^4\\frac{V}{cm}$\n",
    "<br>\n",
    "$\\pi-$ pulse $\\approx 10^{12}Hz$ "
   ]
  },
  {
   "cell_type": "code",
   "execution_count": 196,
   "metadata": {
    "collapsed": true
   },
   "outputs": [],
   "source": [
    "x0=1e-7\n",
    "xend = 30\n",
    "N = 1500\n",
    "\n",
    "e,v = h_atom_stark(x0=x0, xend=xend,E=.00001,Lm=10,N=N,k=10,m=0)\n",
    "e1,v1 = h_atom_stark(x0=x0, xend=xend,E=.00001,Lm=10,N=N,k=10,m=1)\n"
   ]
  },
  {
   "cell_type": "code",
   "execution_count": 197,
   "metadata": {
    "collapsed": false
   },
   "outputs": [
    {
     "data": {
      "text/plain": [
       "(array([-0.12500105+0.j, -0.05555281+0.j, -0.05544723+0.j, -0.03002129+0.j,\n",
       "        -0.02796983+0.j, -0.02591208+0.j, -0.01388943+0.j, -0.00591477+0.j,\n",
       "         0.00063733+0.j,  0.0022669 +0.j]),\n",
       " array([-0.49994501+0.j, -0.12502875+0.j, -0.12496856+0.j, -0.05557044+0.j,\n",
       "        -0.05548766+0.j, -0.05536488+0.j, -0.03002153+0.j, -0.02797043+0.j,\n",
       "        -0.02463083+0.j, -0.02591917+0.j]))"
      ]
     },
     "execution_count": 197,
     "metadata": {},
     "output_type": "execute_result"
    }
   ],
   "source": [
    "e1,e"
   ]
  },
  {
   "cell_type": "code",
   "execution_count": 201,
   "metadata": {
    "collapsed": false,
    "scrolled": true
   },
   "outputs": [
    {
     "name": "stdout",
     "output_type": "stream",
     "text": [
      "Energy diff  (-6.019073925045415e-05+0j)\n",
      "time  (-1.0438790726651822e-12-0j) sec\n"
     ]
    },
    {
     "name": "stderr",
     "output_type": "stream",
     "text": [
      "/home/vit/miniconda3/envs/py3k/lib/python3.6/site-packages/numpy/core/numeric.py:501: ComplexWarning: Casting complex values to real discards the imaginary part\n",
      "  return array(a, dtype, copy=False, order=order)\n"
     ]
    },
    {
     "data": {
      "text/plain": [
       "[<matplotlib.lines.Line2D at 0x7fae661d42e8>]"
      ]
     },
     "execution_count": 201,
     "metadata": {},
     "output_type": "execute_result"
    },
    {
     "data": {
      "image/png": "[encoded data removed]",
      "text/plain": [
       "<Figure size 432x288 with 1 Axes>"
      ]
     },
     "metadata": {},
     "output_type": "display_data"
    }
   ],
   "source": [
    "print('Energy diff ', e[1] - e[2])\n",
    "print('time ', pi/(e[1] - e[2]) * 2*1e-17,'sec')\n",
    "R = linspace(x0,xend,N)\n",
    "R = array(R.tolist() + R.tolist())\n",
    "pyplot.ylim([-.25,.5])\n",
    "pyplot.plot((v[0:2*N,1] + v[0:2*N,2])) # 2s\n",
    "pyplot.plot((v[0:2*N,1] - v[0:2*N,2])) # 2px\n"
   ]
  },
  {
   "cell_type": "markdown",
   "metadata": {},
   "source": [
    "<h1>Conclusion</h1>\n",
    "I am not sure that we can mix only 2 states (2(0,0) and 2(1,0) where (l,m)), but if we can and we have very strong electric field E$=0.00001 a.u \\approx 10^4\\frac{V}{cm}$ there will oscilation between mixed states with frequency $\\approx 10^{12}Hz$\n"
   ]
  },
  {
   "cell_type": "code",
   "execution_count": null,
   "metadata": {
    "collapsed": true
   },
   "outputs": [],
   "source": []
  }
 ],
 "metadata": {
  "kernelspec": {
   "display_name": "Python 3",
   "language": "python",
   "name": "python3"
  },
  "language_info": {
   "codemirror_mode": {
    "name": "ipython",
    "version": 3
   },
   "file_extension": ".py",
   "mimetype": "text/x-python",
   "name": "python",
   "nbconvert_exporter": "python",
   "pygments_lexer": "ipython3",
   "version": "3.6.3"
  }
 },
 "nbformat": 4,
 "nbformat_minor": 2
}
